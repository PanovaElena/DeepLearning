{
 "cells": [
  {
   "cell_type": "markdown",
   "metadata": {},
   "source": [
    "# MNIST classification with kNN classifier"
   ]
  },
  {
   "cell_type": "markdown",
   "metadata": {},
   "source": [
    "## 1. Load MNIST dataset and prepare data"
   ]
  },
  {
   "cell_type": "markdown",
   "metadata": {},
   "source": [
    "I use pandas to read data from .csv files and to process it easily."
   ]
  },
  {
   "cell_type": "code",
   "execution_count": 1,
   "metadata": {},
   "outputs": [],
   "source": [
    "import numpy as np\n",
    "import pandas as pd"
   ]
  },
  {
   "cell_type": "code",
   "execution_count": 2,
   "metadata": {},
   "outputs": [],
   "source": [
    "mnist_train_full = pd.read_csv('mnist_train.csv')\n",
    "mnist_test_full = pd.read_csv('mnist_test.csv')"
   ]
  },
  {
   "cell_type": "markdown",
   "metadata": {},
   "source": [
    "To speed up the calculations, I use 20\\% of the full dataset only (12000 images in training data and 200 images in test data). The next subsample is randomly selected."
   ]
  },
  {
   "cell_type": "code",
   "execution_count": 3,
   "metadata": {},
   "outputs": [],
   "source": [
    "part = 0.2\n",
    "mnist_train = mnist_train_full.sample(int(len(mnist_train_full)*part))\n",
    "mnist_test = mnist_test_full.sample(int(len(mnist_test_full)*part))"
   ]
  },
  {
   "cell_type": "code",
   "execution_count": 4,
   "metadata": {},
   "outputs": [
    {
     "data": {
      "text/html": [
       "<div>\n",
       "<style scoped>\n",
       "    .dataframe tbody tr th:only-of-type {\n",
       "        vertical-align: middle;\n",
       "    }\n",
       "\n",
       "    .dataframe tbody tr th {\n",
       "        vertical-align: top;\n",
       "    }\n",
       "\n",
       "    .dataframe thead th {\n",
       "        text-align: right;\n",
       "    }\n",
       "</style>\n",
       "<table border=\"1\" class=\"dataframe\">\n",
       "  <thead>\n",
       "    <tr style=\"text-align: right;\">\n",
       "      <th></th>\n",
       "      <th>label</th>\n",
       "      <th>1x1</th>\n",
       "      <th>1x2</th>\n",
       "      <th>1x3</th>\n",
       "      <th>1x4</th>\n",
       "      <th>1x5</th>\n",
       "      <th>1x6</th>\n",
       "      <th>1x7</th>\n",
       "      <th>1x8</th>\n",
       "      <th>1x9</th>\n",
       "      <th>...</th>\n",
       "      <th>28x19</th>\n",
       "      <th>28x20</th>\n",
       "      <th>28x21</th>\n",
       "      <th>28x22</th>\n",
       "      <th>28x23</th>\n",
       "      <th>28x24</th>\n",
       "      <th>28x25</th>\n",
       "      <th>28x26</th>\n",
       "      <th>28x27</th>\n",
       "      <th>28x28</th>\n",
       "    </tr>\n",
       "  </thead>\n",
       "  <tbody>\n",
       "    <tr>\n",
       "      <th>42201</th>\n",
       "      <td>3</td>\n",
       "      <td>0</td>\n",
       "      <td>0</td>\n",
       "      <td>0</td>\n",
       "      <td>0</td>\n",
       "      <td>0</td>\n",
       "      <td>0</td>\n",
       "      <td>0</td>\n",
       "      <td>0</td>\n",
       "      <td>0</td>\n",
       "      <td>...</td>\n",
       "      <td>0</td>\n",
       "      <td>0</td>\n",
       "      <td>0</td>\n",
       "      <td>0</td>\n",
       "      <td>0</td>\n",
       "      <td>0</td>\n",
       "      <td>0</td>\n",
       "      <td>0</td>\n",
       "      <td>0</td>\n",
       "      <td>0</td>\n",
       "    </tr>\n",
       "    <tr>\n",
       "      <th>56336</th>\n",
       "      <td>1</td>\n",
       "      <td>0</td>\n",
       "      <td>0</td>\n",
       "      <td>0</td>\n",
       "      <td>0</td>\n",
       "      <td>0</td>\n",
       "      <td>0</td>\n",
       "      <td>0</td>\n",
       "      <td>0</td>\n",
       "      <td>0</td>\n",
       "      <td>...</td>\n",
       "      <td>0</td>\n",
       "      <td>0</td>\n",
       "      <td>0</td>\n",
       "      <td>0</td>\n",
       "      <td>0</td>\n",
       "      <td>0</td>\n",
       "      <td>0</td>\n",
       "      <td>0</td>\n",
       "      <td>0</td>\n",
       "      <td>0</td>\n",
       "    </tr>\n",
       "    <tr>\n",
       "      <th>12163</th>\n",
       "      <td>8</td>\n",
       "      <td>0</td>\n",
       "      <td>0</td>\n",
       "      <td>0</td>\n",
       "      <td>0</td>\n",
       "      <td>0</td>\n",
       "      <td>0</td>\n",
       "      <td>0</td>\n",
       "      <td>0</td>\n",
       "      <td>0</td>\n",
       "      <td>...</td>\n",
       "      <td>0</td>\n",
       "      <td>0</td>\n",
       "      <td>0</td>\n",
       "      <td>0</td>\n",
       "      <td>0</td>\n",
       "      <td>0</td>\n",
       "      <td>0</td>\n",
       "      <td>0</td>\n",
       "      <td>0</td>\n",
       "      <td>0</td>\n",
       "    </tr>\n",
       "    <tr>\n",
       "      <th>3938</th>\n",
       "      <td>3</td>\n",
       "      <td>0</td>\n",
       "      <td>0</td>\n",
       "      <td>0</td>\n",
       "      <td>0</td>\n",
       "      <td>0</td>\n",
       "      <td>0</td>\n",
       "      <td>0</td>\n",
       "      <td>0</td>\n",
       "      <td>0</td>\n",
       "      <td>...</td>\n",
       "      <td>0</td>\n",
       "      <td>0</td>\n",
       "      <td>0</td>\n",
       "      <td>0</td>\n",
       "      <td>0</td>\n",
       "      <td>0</td>\n",
       "      <td>0</td>\n",
       "      <td>0</td>\n",
       "      <td>0</td>\n",
       "      <td>0</td>\n",
       "    </tr>\n",
       "    <tr>\n",
       "      <th>13707</th>\n",
       "      <td>3</td>\n",
       "      <td>0</td>\n",
       "      <td>0</td>\n",
       "      <td>0</td>\n",
       "      <td>0</td>\n",
       "      <td>0</td>\n",
       "      <td>0</td>\n",
       "      <td>0</td>\n",
       "      <td>0</td>\n",
       "      <td>0</td>\n",
       "      <td>...</td>\n",
       "      <td>0</td>\n",
       "      <td>0</td>\n",
       "      <td>0</td>\n",
       "      <td>0</td>\n",
       "      <td>0</td>\n",
       "      <td>0</td>\n",
       "      <td>0</td>\n",
       "      <td>0</td>\n",
       "      <td>0</td>\n",
       "      <td>0</td>\n",
       "    </tr>\n",
       "    <tr>\n",
       "      <th>...</th>\n",
       "      <td>...</td>\n",
       "      <td>...</td>\n",
       "      <td>...</td>\n",
       "      <td>...</td>\n",
       "      <td>...</td>\n",
       "      <td>...</td>\n",
       "      <td>...</td>\n",
       "      <td>...</td>\n",
       "      <td>...</td>\n",
       "      <td>...</td>\n",
       "      <td>...</td>\n",
       "      <td>...</td>\n",
       "      <td>...</td>\n",
       "      <td>...</td>\n",
       "      <td>...</td>\n",
       "      <td>...</td>\n",
       "      <td>...</td>\n",
       "      <td>...</td>\n",
       "      <td>...</td>\n",
       "      <td>...</td>\n",
       "      <td>...</td>\n",
       "    </tr>\n",
       "    <tr>\n",
       "      <th>24532</th>\n",
       "      <td>3</td>\n",
       "      <td>0</td>\n",
       "      <td>0</td>\n",
       "      <td>0</td>\n",
       "      <td>0</td>\n",
       "      <td>0</td>\n",
       "      <td>0</td>\n",
       "      <td>0</td>\n",
       "      <td>0</td>\n",
       "      <td>0</td>\n",
       "      <td>...</td>\n",
       "      <td>0</td>\n",
       "      <td>0</td>\n",
       "      <td>0</td>\n",
       "      <td>0</td>\n",
       "      <td>0</td>\n",
       "      <td>0</td>\n",
       "      <td>0</td>\n",
       "      <td>0</td>\n",
       "      <td>0</td>\n",
       "      <td>0</td>\n",
       "    </tr>\n",
       "    <tr>\n",
       "      <th>35520</th>\n",
       "      <td>3</td>\n",
       "      <td>0</td>\n",
       "      <td>0</td>\n",
       "      <td>0</td>\n",
       "      <td>0</td>\n",
       "      <td>0</td>\n",
       "      <td>0</td>\n",
       "      <td>0</td>\n",
       "      <td>0</td>\n",
       "      <td>0</td>\n",
       "      <td>...</td>\n",
       "      <td>0</td>\n",
       "      <td>0</td>\n",
       "      <td>0</td>\n",
       "      <td>0</td>\n",
       "      <td>0</td>\n",
       "      <td>0</td>\n",
       "      <td>0</td>\n",
       "      <td>0</td>\n",
       "      <td>0</td>\n",
       "      <td>0</td>\n",
       "    </tr>\n",
       "    <tr>\n",
       "      <th>43187</th>\n",
       "      <td>7</td>\n",
       "      <td>0</td>\n",
       "      <td>0</td>\n",
       "      <td>0</td>\n",
       "      <td>0</td>\n",
       "      <td>0</td>\n",
       "      <td>0</td>\n",
       "      <td>0</td>\n",
       "      <td>0</td>\n",
       "      <td>0</td>\n",
       "      <td>...</td>\n",
       "      <td>0</td>\n",
       "      <td>0</td>\n",
       "      <td>0</td>\n",
       "      <td>0</td>\n",
       "      <td>0</td>\n",
       "      <td>0</td>\n",
       "      <td>0</td>\n",
       "      <td>0</td>\n",
       "      <td>0</td>\n",
       "      <td>0</td>\n",
       "    </tr>\n",
       "    <tr>\n",
       "      <th>35509</th>\n",
       "      <td>2</td>\n",
       "      <td>0</td>\n",
       "      <td>0</td>\n",
       "      <td>0</td>\n",
       "      <td>0</td>\n",
       "      <td>0</td>\n",
       "      <td>0</td>\n",
       "      <td>0</td>\n",
       "      <td>0</td>\n",
       "      <td>0</td>\n",
       "      <td>...</td>\n",
       "      <td>0</td>\n",
       "      <td>0</td>\n",
       "      <td>0</td>\n",
       "      <td>0</td>\n",
       "      <td>0</td>\n",
       "      <td>0</td>\n",
       "      <td>0</td>\n",
       "      <td>0</td>\n",
       "      <td>0</td>\n",
       "      <td>0</td>\n",
       "    </tr>\n",
       "    <tr>\n",
       "      <th>28230</th>\n",
       "      <td>0</td>\n",
       "      <td>0</td>\n",
       "      <td>0</td>\n",
       "      <td>0</td>\n",
       "      <td>0</td>\n",
       "      <td>0</td>\n",
       "      <td>0</td>\n",
       "      <td>0</td>\n",
       "      <td>0</td>\n",
       "      <td>0</td>\n",
       "      <td>...</td>\n",
       "      <td>0</td>\n",
       "      <td>0</td>\n",
       "      <td>0</td>\n",
       "      <td>0</td>\n",
       "      <td>0</td>\n",
       "      <td>0</td>\n",
       "      <td>0</td>\n",
       "      <td>0</td>\n",
       "      <td>0</td>\n",
       "      <td>0</td>\n",
       "    </tr>\n",
       "  </tbody>\n",
       "</table>\n",
       "<p>12000 rows × 785 columns</p>\n",
       "</div>"
      ],
      "text/plain": [
       "       label  1x1  1x2  1x3  1x4  1x5  1x6  1x7  1x8  1x9  ...  28x19  28x20  \\\n",
       "42201      3    0    0    0    0    0    0    0    0    0  ...      0      0   \n",
       "56336      1    0    0    0    0    0    0    0    0    0  ...      0      0   \n",
       "12163      8    0    0    0    0    0    0    0    0    0  ...      0      0   \n",
       "3938       3    0    0    0    0    0    0    0    0    0  ...      0      0   \n",
       "13707      3    0    0    0    0    0    0    0    0    0  ...      0      0   \n",
       "...      ...  ...  ...  ...  ...  ...  ...  ...  ...  ...  ...    ...    ...   \n",
       "24532      3    0    0    0    0    0    0    0    0    0  ...      0      0   \n",
       "35520      3    0    0    0    0    0    0    0    0    0  ...      0      0   \n",
       "43187      7    0    0    0    0    0    0    0    0    0  ...      0      0   \n",
       "35509      2    0    0    0    0    0    0    0    0    0  ...      0      0   \n",
       "28230      0    0    0    0    0    0    0    0    0    0  ...      0      0   \n",
       "\n",
       "       28x21  28x22  28x23  28x24  28x25  28x26  28x27  28x28  \n",
       "42201      0      0      0      0      0      0      0      0  \n",
       "56336      0      0      0      0      0      0      0      0  \n",
       "12163      0      0      0      0      0      0      0      0  \n",
       "3938       0      0      0      0      0      0      0      0  \n",
       "13707      0      0      0      0      0      0      0      0  \n",
       "...      ...    ...    ...    ...    ...    ...    ...    ...  \n",
       "24532      0      0      0      0      0      0      0      0  \n",
       "35520      0      0      0      0      0      0      0      0  \n",
       "43187      0      0      0      0      0      0      0      0  \n",
       "35509      0      0      0      0      0      0      0      0  \n",
       "28230      0      0      0      0      0      0      0      0  \n",
       "\n",
       "[12000 rows x 785 columns]"
      ]
     },
     "execution_count": 4,
     "metadata": {},
     "output_type": "execute_result"
    }
   ],
   "source": [
    "mnist_train"
   ]
  },
  {
   "cell_type": "code",
   "execution_count": 5,
   "metadata": {},
   "outputs": [
    {
     "data": {
      "text/html": [
       "<div>\n",
       "<style scoped>\n",
       "    .dataframe tbody tr th:only-of-type {\n",
       "        vertical-align: middle;\n",
       "    }\n",
       "\n",
       "    .dataframe tbody tr th {\n",
       "        vertical-align: top;\n",
       "    }\n",
       "\n",
       "    .dataframe thead th {\n",
       "        text-align: right;\n",
       "    }\n",
       "</style>\n",
       "<table border=\"1\" class=\"dataframe\">\n",
       "  <thead>\n",
       "    <tr style=\"text-align: right;\">\n",
       "      <th></th>\n",
       "      <th>label</th>\n",
       "      <th>1x1</th>\n",
       "      <th>1x2</th>\n",
       "      <th>1x3</th>\n",
       "      <th>1x4</th>\n",
       "      <th>1x5</th>\n",
       "      <th>1x6</th>\n",
       "      <th>1x7</th>\n",
       "      <th>1x8</th>\n",
       "      <th>1x9</th>\n",
       "      <th>...</th>\n",
       "      <th>28x19</th>\n",
       "      <th>28x20</th>\n",
       "      <th>28x21</th>\n",
       "      <th>28x22</th>\n",
       "      <th>28x23</th>\n",
       "      <th>28x24</th>\n",
       "      <th>28x25</th>\n",
       "      <th>28x26</th>\n",
       "      <th>28x27</th>\n",
       "      <th>28x28</th>\n",
       "    </tr>\n",
       "  </thead>\n",
       "  <tbody>\n",
       "    <tr>\n",
       "      <th>4616</th>\n",
       "      <td>9</td>\n",
       "      <td>0</td>\n",
       "      <td>0</td>\n",
       "      <td>0</td>\n",
       "      <td>0</td>\n",
       "      <td>0</td>\n",
       "      <td>0</td>\n",
       "      <td>0</td>\n",
       "      <td>0</td>\n",
       "      <td>0</td>\n",
       "      <td>...</td>\n",
       "      <td>0</td>\n",
       "      <td>0</td>\n",
       "      <td>0</td>\n",
       "      <td>0</td>\n",
       "      <td>0</td>\n",
       "      <td>0</td>\n",
       "      <td>0</td>\n",
       "      <td>0</td>\n",
       "      <td>0</td>\n",
       "      <td>0</td>\n",
       "    </tr>\n",
       "    <tr>\n",
       "      <th>1951</th>\n",
       "      <td>6</td>\n",
       "      <td>0</td>\n",
       "      <td>0</td>\n",
       "      <td>0</td>\n",
       "      <td>0</td>\n",
       "      <td>0</td>\n",
       "      <td>0</td>\n",
       "      <td>0</td>\n",
       "      <td>0</td>\n",
       "      <td>0</td>\n",
       "      <td>...</td>\n",
       "      <td>0</td>\n",
       "      <td>0</td>\n",
       "      <td>0</td>\n",
       "      <td>0</td>\n",
       "      <td>0</td>\n",
       "      <td>0</td>\n",
       "      <td>0</td>\n",
       "      <td>0</td>\n",
       "      <td>0</td>\n",
       "      <td>0</td>\n",
       "    </tr>\n",
       "    <tr>\n",
       "      <th>2759</th>\n",
       "      <td>6</td>\n",
       "      <td>0</td>\n",
       "      <td>0</td>\n",
       "      <td>0</td>\n",
       "      <td>0</td>\n",
       "      <td>0</td>\n",
       "      <td>0</td>\n",
       "      <td>0</td>\n",
       "      <td>0</td>\n",
       "      <td>0</td>\n",
       "      <td>...</td>\n",
       "      <td>0</td>\n",
       "      <td>0</td>\n",
       "      <td>0</td>\n",
       "      <td>0</td>\n",
       "      <td>0</td>\n",
       "      <td>0</td>\n",
       "      <td>0</td>\n",
       "      <td>0</td>\n",
       "      <td>0</td>\n",
       "      <td>0</td>\n",
       "    </tr>\n",
       "    <tr>\n",
       "      <th>6496</th>\n",
       "      <td>9</td>\n",
       "      <td>0</td>\n",
       "      <td>0</td>\n",
       "      <td>0</td>\n",
       "      <td>0</td>\n",
       "      <td>0</td>\n",
       "      <td>0</td>\n",
       "      <td>0</td>\n",
       "      <td>0</td>\n",
       "      <td>0</td>\n",
       "      <td>...</td>\n",
       "      <td>0</td>\n",
       "      <td>0</td>\n",
       "      <td>0</td>\n",
       "      <td>0</td>\n",
       "      <td>0</td>\n",
       "      <td>0</td>\n",
       "      <td>0</td>\n",
       "      <td>0</td>\n",
       "      <td>0</td>\n",
       "      <td>0</td>\n",
       "    </tr>\n",
       "    <tr>\n",
       "      <th>3019</th>\n",
       "      <td>1</td>\n",
       "      <td>0</td>\n",
       "      <td>0</td>\n",
       "      <td>0</td>\n",
       "      <td>0</td>\n",
       "      <td>0</td>\n",
       "      <td>0</td>\n",
       "      <td>0</td>\n",
       "      <td>0</td>\n",
       "      <td>0</td>\n",
       "      <td>...</td>\n",
       "      <td>0</td>\n",
       "      <td>0</td>\n",
       "      <td>0</td>\n",
       "      <td>0</td>\n",
       "      <td>0</td>\n",
       "      <td>0</td>\n",
       "      <td>0</td>\n",
       "      <td>0</td>\n",
       "      <td>0</td>\n",
       "      <td>0</td>\n",
       "    </tr>\n",
       "    <tr>\n",
       "      <th>...</th>\n",
       "      <td>...</td>\n",
       "      <td>...</td>\n",
       "      <td>...</td>\n",
       "      <td>...</td>\n",
       "      <td>...</td>\n",
       "      <td>...</td>\n",
       "      <td>...</td>\n",
       "      <td>...</td>\n",
       "      <td>...</td>\n",
       "      <td>...</td>\n",
       "      <td>...</td>\n",
       "      <td>...</td>\n",
       "      <td>...</td>\n",
       "      <td>...</td>\n",
       "      <td>...</td>\n",
       "      <td>...</td>\n",
       "      <td>...</td>\n",
       "      <td>...</td>\n",
       "      <td>...</td>\n",
       "      <td>...</td>\n",
       "      <td>...</td>\n",
       "    </tr>\n",
       "    <tr>\n",
       "      <th>1620</th>\n",
       "      <td>2</td>\n",
       "      <td>0</td>\n",
       "      <td>0</td>\n",
       "      <td>0</td>\n",
       "      <td>0</td>\n",
       "      <td>0</td>\n",
       "      <td>0</td>\n",
       "      <td>0</td>\n",
       "      <td>0</td>\n",
       "      <td>0</td>\n",
       "      <td>...</td>\n",
       "      <td>0</td>\n",
       "      <td>0</td>\n",
       "      <td>0</td>\n",
       "      <td>0</td>\n",
       "      <td>0</td>\n",
       "      <td>0</td>\n",
       "      <td>0</td>\n",
       "      <td>0</td>\n",
       "      <td>0</td>\n",
       "      <td>0</td>\n",
       "    </tr>\n",
       "    <tr>\n",
       "      <th>3269</th>\n",
       "      <td>6</td>\n",
       "      <td>0</td>\n",
       "      <td>0</td>\n",
       "      <td>0</td>\n",
       "      <td>0</td>\n",
       "      <td>0</td>\n",
       "      <td>0</td>\n",
       "      <td>0</td>\n",
       "      <td>0</td>\n",
       "      <td>0</td>\n",
       "      <td>...</td>\n",
       "      <td>0</td>\n",
       "      <td>0</td>\n",
       "      <td>0</td>\n",
       "      <td>0</td>\n",
       "      <td>0</td>\n",
       "      <td>0</td>\n",
       "      <td>0</td>\n",
       "      <td>0</td>\n",
       "      <td>0</td>\n",
       "      <td>0</td>\n",
       "    </tr>\n",
       "    <tr>\n",
       "      <th>7310</th>\n",
       "      <td>6</td>\n",
       "      <td>0</td>\n",
       "      <td>0</td>\n",
       "      <td>0</td>\n",
       "      <td>0</td>\n",
       "      <td>0</td>\n",
       "      <td>0</td>\n",
       "      <td>0</td>\n",
       "      <td>0</td>\n",
       "      <td>0</td>\n",
       "      <td>...</td>\n",
       "      <td>0</td>\n",
       "      <td>0</td>\n",
       "      <td>0</td>\n",
       "      <td>0</td>\n",
       "      <td>0</td>\n",
       "      <td>0</td>\n",
       "      <td>0</td>\n",
       "      <td>0</td>\n",
       "      <td>0</td>\n",
       "      <td>0</td>\n",
       "    </tr>\n",
       "    <tr>\n",
       "      <th>9419</th>\n",
       "      <td>7</td>\n",
       "      <td>0</td>\n",
       "      <td>0</td>\n",
       "      <td>0</td>\n",
       "      <td>0</td>\n",
       "      <td>0</td>\n",
       "      <td>0</td>\n",
       "      <td>0</td>\n",
       "      <td>0</td>\n",
       "      <td>0</td>\n",
       "      <td>...</td>\n",
       "      <td>0</td>\n",
       "      <td>0</td>\n",
       "      <td>0</td>\n",
       "      <td>0</td>\n",
       "      <td>0</td>\n",
       "      <td>0</td>\n",
       "      <td>0</td>\n",
       "      <td>0</td>\n",
       "      <td>0</td>\n",
       "      <td>0</td>\n",
       "    </tr>\n",
       "    <tr>\n",
       "      <th>1888</th>\n",
       "      <td>6</td>\n",
       "      <td>0</td>\n",
       "      <td>0</td>\n",
       "      <td>0</td>\n",
       "      <td>0</td>\n",
       "      <td>0</td>\n",
       "      <td>0</td>\n",
       "      <td>0</td>\n",
       "      <td>0</td>\n",
       "      <td>0</td>\n",
       "      <td>...</td>\n",
       "      <td>0</td>\n",
       "      <td>0</td>\n",
       "      <td>0</td>\n",
       "      <td>0</td>\n",
       "      <td>0</td>\n",
       "      <td>0</td>\n",
       "      <td>0</td>\n",
       "      <td>0</td>\n",
       "      <td>0</td>\n",
       "      <td>0</td>\n",
       "    </tr>\n",
       "  </tbody>\n",
       "</table>\n",
       "<p>2000 rows × 785 columns</p>\n",
       "</div>"
      ],
      "text/plain": [
       "      label  1x1  1x2  1x3  1x4  1x5  1x6  1x7  1x8  1x9  ...  28x19  28x20  \\\n",
       "4616      9    0    0    0    0    0    0    0    0    0  ...      0      0   \n",
       "1951      6    0    0    0    0    0    0    0    0    0  ...      0      0   \n",
       "2759      6    0    0    0    0    0    0    0    0    0  ...      0      0   \n",
       "6496      9    0    0    0    0    0    0    0    0    0  ...      0      0   \n",
       "3019      1    0    0    0    0    0    0    0    0    0  ...      0      0   \n",
       "...     ...  ...  ...  ...  ...  ...  ...  ...  ...  ...  ...    ...    ...   \n",
       "1620      2    0    0    0    0    0    0    0    0    0  ...      0      0   \n",
       "3269      6    0    0    0    0    0    0    0    0    0  ...      0      0   \n",
       "7310      6    0    0    0    0    0    0    0    0    0  ...      0      0   \n",
       "9419      7    0    0    0    0    0    0    0    0    0  ...      0      0   \n",
       "1888      6    0    0    0    0    0    0    0    0    0  ...      0      0   \n",
       "\n",
       "      28x21  28x22  28x23  28x24  28x25  28x26  28x27  28x28  \n",
       "4616      0      0      0      0      0      0      0      0  \n",
       "1951      0      0      0      0      0      0      0      0  \n",
       "2759      0      0      0      0      0      0      0      0  \n",
       "6496      0      0      0      0      0      0      0      0  \n",
       "3019      0      0      0      0      0      0      0      0  \n",
       "...     ...    ...    ...    ...    ...    ...    ...    ...  \n",
       "1620      0      0      0      0      0      0      0      0  \n",
       "3269      0      0      0      0      0      0      0      0  \n",
       "7310      0      0      0      0      0      0      0      0  \n",
       "9419      0      0      0      0      0      0      0      0  \n",
       "1888      0      0      0      0      0      0      0      0  \n",
       "\n",
       "[2000 rows x 785 columns]"
      ]
     },
     "execution_count": 5,
     "metadata": {},
     "output_type": "execute_result"
    }
   ],
   "source": [
    "mnist_test"
   ]
  },
  {
   "cell_type": "code",
   "execution_count": 6,
   "metadata": {},
   "outputs": [],
   "source": [
    "imsize = 28"
   ]
  },
  {
   "cell_type": "markdown",
   "metadata": {},
   "source": [
    "The next code lines break down the dataset into images and their labels."
   ]
  },
  {
   "cell_type": "code",
   "execution_count": 7,
   "metadata": {},
   "outputs": [],
   "source": [
    "def get_data(dataset):\n",
    "    return dataset[['%dx%d' % (i+1, j+1) for i in range(imsize) for j in range(imsize)]]"
   ]
  },
  {
   "cell_type": "code",
   "execution_count": 8,
   "metadata": {},
   "outputs": [],
   "source": [
    "def get_labels(dataset):\n",
    "    return dataset['label']"
   ]
  },
  {
   "cell_type": "code",
   "execution_count": 9,
   "metadata": {},
   "outputs": [],
   "source": [
    "mnist_train_data = get_data(mnist_train)\n",
    "mnist_train_labels = get_labels(mnist_train)"
   ]
  },
  {
   "cell_type": "code",
   "execution_count": 10,
   "metadata": {},
   "outputs": [
    {
     "name": "stdout",
     "output_type": "stream",
     "text": [
      "       1x1  1x2  1x3  1x4  1x5  1x6  1x7  1x8  1x9  1x10  ...  28x19  28x20  \\\n",
      "42201    0    0    0    0    0    0    0    0    0     0  ...      0      0   \n",
      "56336    0    0    0    0    0    0    0    0    0     0  ...      0      0   \n",
      "12163    0    0    0    0    0    0    0    0    0     0  ...      0      0   \n",
      "3938     0    0    0    0    0    0    0    0    0     0  ...      0      0   \n",
      "13707    0    0    0    0    0    0    0    0    0     0  ...      0      0   \n",
      "...    ...  ...  ...  ...  ...  ...  ...  ...  ...   ...  ...    ...    ...   \n",
      "24532    0    0    0    0    0    0    0    0    0     0  ...      0      0   \n",
      "35520    0    0    0    0    0    0    0    0    0     0  ...      0      0   \n",
      "43187    0    0    0    0    0    0    0    0    0     0  ...      0      0   \n",
      "35509    0    0    0    0    0    0    0    0    0     0  ...      0      0   \n",
      "28230    0    0    0    0    0    0    0    0    0     0  ...      0      0   \n",
      "\n",
      "       28x21  28x22  28x23  28x24  28x25  28x26  28x27  28x28  \n",
      "42201      0      0      0      0      0      0      0      0  \n",
      "56336      0      0      0      0      0      0      0      0  \n",
      "12163      0      0      0      0      0      0      0      0  \n",
      "3938       0      0      0      0      0      0      0      0  \n",
      "13707      0      0      0      0      0      0      0      0  \n",
      "...      ...    ...    ...    ...    ...    ...    ...    ...  \n",
      "24532      0      0      0      0      0      0      0      0  \n",
      "35520      0      0      0      0      0      0      0      0  \n",
      "43187      0      0      0      0      0      0      0      0  \n",
      "35509      0      0      0      0      0      0      0      0  \n",
      "28230      0      0      0      0      0      0      0      0  \n",
      "\n",
      "[12000 rows x 784 columns]\n",
      "42201    3\n",
      "56336    1\n",
      "12163    8\n",
      "3938     3\n",
      "13707    3\n",
      "        ..\n",
      "24532    3\n",
      "35520    3\n",
      "43187    7\n",
      "35509    2\n",
      "28230    0\n",
      "Name: label, Length: 12000, dtype: int64\n"
     ]
    }
   ],
   "source": [
    "print(mnist_train_data)\n",
    "print(mnist_train_labels)"
   ]
  },
  {
   "cell_type": "code",
   "execution_count": 11,
   "metadata": {},
   "outputs": [],
   "source": [
    "mnist_test_data = get_data(mnist_test)\n",
    "mnist_test_labels = get_labels(mnist_test)"
   ]
  },
  {
   "cell_type": "markdown",
   "metadata": {},
   "source": [
    "## 2. kNN classifier implementation"
   ]
  },
  {
   "cell_type": "markdown",
   "metadata": {},
   "source": [
    "Here I present my knn classifier."
   ]
  },
  {
   "cell_type": "code",
   "execution_count": 12,
   "metadata": {},
   "outputs": [],
   "source": [
    "import sklearn\n",
    "from sklearn.metrics.pairwise import euclidean_distances, manhattan_distances"
   ]
  },
  {
   "cell_type": "code",
   "execution_count": 13,
   "metadata": {},
   "outputs": [],
   "source": [
    "class KNeighborsClassifier:\n",
    "    \n",
    "    def __init__(self, nclasses=10, n_neighbors=3, metric=euclidean_distances):\n",
    "        self.nclasses = nclasses\n",
    "        self.k = n_neighbors\n",
    "        self.metric = metric\n",
    "        \n",
    "    def fit(self, train_data, labels):\n",
    "        self.train_data = train_data\n",
    "        self.labels = labels\n",
    "        \n",
    "    def predict_proba(self, test_data):\n",
    "        labels = self._get_neighbours_labels(test_data)\n",
    "        prediction = np.array([[len(np.where(k_labels == i)[0])/self.k for i in range(self.nclasses)]\\\n",
    "                               for k_labels in labels], dtype=np.float64)\n",
    "        return prediction\n",
    "                \n",
    "    def predict(self, test_data):\n",
    "        return np.argmax(self.predict_proba(test_data), axis=-1)\n",
    "    \n",
    "    def _get_neighbours_labels(self, test_data):\n",
    "        distances = self.metric(test_data.values, self.train_data.values)\n",
    "        neighbours = np.array([sorted(range(len(self.train_data)), key=lambda ind: distances[test_ind, ind])\\\n",
    "                      for test_ind in range(len(test_data))])[:, :self.k]\n",
    "        return np.vectorize(lambda ind: self.labels.iloc[ind])(neighbours)\n"
   ]
  },
  {
   "cell_type": "markdown",
   "metadata": {},
   "source": [
    "## 3. Check correctness (compare with exist implementations)"
   ]
  },
  {
   "cell_type": "markdown",
   "metadata": {},
   "source": [
    "The knn classifier implementation above is correct because my knn classifier and knn classifier from sklearn shows the same results. Moreover, my classifier is faster."
   ]
  },
  {
   "cell_type": "code",
   "execution_count": 25,
   "metadata": {},
   "outputs": [],
   "source": [
    "import time"
   ]
  },
  {
   "cell_type": "code",
   "execution_count": 26,
   "metadata": {},
   "outputs": [
    {
     "name": "stdout",
     "output_type": "stream",
     "text": [
      "My knn time is 12 sec\n"
     ]
    }
   ],
   "source": [
    "my_knn = KNeighborsClassifier(n_neighbors=3, metric=euclidean_distances)\n",
    "my_knn.fit(mnist_train_data, mnist_train_labels)\n",
    "my_knn_predict_proba = my_knn.predict_proba(mnist_test_data)\n",
    "\n",
    "t = time.process_time()\n",
    "my_knn_predict = my_knn.predict(mnist_test_data)\n",
    "print(\"My knn time is %d sec\" % (time.process_time() - t))"
   ]
  },
  {
   "cell_type": "code",
   "execution_count": 27,
   "metadata": {},
   "outputs": [],
   "source": [
    "from sklearn.neighbors import KNeighborsClassifier as SklearnKNeighborsClassifier"
   ]
  },
  {
   "cell_type": "code",
   "execution_count": 28,
   "metadata": {},
   "outputs": [
    {
     "name": "stdout",
     "output_type": "stream",
     "text": [
      "Sklearn knn time is 20 sec\n"
     ]
    }
   ],
   "source": [
    "sklearn_knn = SklearnKNeighborsClassifier(n_neighbors=3, metric='euclidean')\n",
    "sklearn_knn.fit(mnist_train_data, mnist_train_labels)\n",
    "sklearn_knn_predict_proba = sklearn_knn.predict_proba(mnist_test_data)\n",
    "\n",
    "t = time.process_time()\n",
    "sklearn_knn_predict = sklearn_knn.predict(mnist_test_data)\n",
    "print(\"Sklearn knn time is %d sec\" % (time.process_time() - t))"
   ]
  },
  {
   "cell_type": "code",
   "execution_count": 29,
   "metadata": {},
   "outputs": [
    {
     "data": {
      "text/plain": [
       "0"
      ]
     },
     "execution_count": 29,
     "metadata": {},
     "output_type": "execute_result"
    }
   ],
   "source": [
    "len(my_knn_predict_proba[np.where(my_knn_predict_proba != sklearn_knn_predict_proba)])"
   ]
  },
  {
   "cell_type": "code",
   "execution_count": 30,
   "metadata": {},
   "outputs": [
    {
     "data": {
      "text/plain": [
       "0"
      ]
     },
     "execution_count": 30,
     "metadata": {},
     "output_type": "execute_result"
    }
   ],
   "source": [
    "len(my_knn_predict[np.where(my_knn_predict != sklearn_knn_predict)])"
   ]
  },
  {
   "cell_type": "markdown",
   "metadata": {},
   "source": [
    "## 4. Define features and distance functions"
   ]
  },
  {
   "cell_type": "markdown",
   "metadata": {},
   "source": [
    "The following function calculates the forecast error."
   ]
  },
  {
   "cell_type": "code",
   "execution_count": 15,
   "metadata": {},
   "outputs": [],
   "source": [
    "def comp_error(predicted, labels):\n",
    "    return len(np.where(predicted != labels)[0])/len(labels)"
   ]
  },
  {
   "cell_type": "markdown",
   "metadata": {},
   "source": [
    "### 4.1. Some metrics"
   ]
  },
  {
   "cell_type": "markdown",
   "metadata": {},
   "source": [
    "#### 4.1.1. L1 metric"
   ]
  },
  {
   "cell_type": "markdown",
   "metadata": {},
   "source": [
    "L1 metric (or Manhattan metric) shows the forecast error of 5.75\\%."
   ]
  },
  {
   "cell_type": "code",
   "execution_count": 31,
   "metadata": {},
   "outputs": [
    {
     "data": {
      "text/plain": [
       "0.0575"
      ]
     },
     "execution_count": 31,
     "metadata": {},
     "output_type": "execute_result"
    }
   ],
   "source": [
    "knn = KNeighborsClassifier(n_neighbors=5, metric=manhattan_distances)\n",
    "knn.fit(mnist_train_data, mnist_train_labels)\n",
    "comp_error(knn.predict(mnist_test_data), mnist_test_labels)"
   ]
  },
  {
   "cell_type": "markdown",
   "metadata": {},
   "source": [
    "#### 4.1.2. Euclidean Distance"
   ]
  },
  {
   "cell_type": "markdown",
   "metadata": {},
   "source": [
    "L2 metric (or Euclidean metric) shows better result: the forecast error of 4.95\\% (5\\% is shown for the full dataset)."
   ]
  },
  {
   "cell_type": "code",
   "execution_count": 16,
   "metadata": {},
   "outputs": [
    {
     "data": {
      "text/plain": [
       "0.0495"
      ]
     },
     "execution_count": 16,
     "metadata": {},
     "output_type": "execute_result"
    }
   ],
   "source": [
    "knn = KNeighborsClassifier(n_neighbors=5, metric=euclidean_distances)\n",
    "knn.fit(mnist_train_data, mnist_train_labels)\n",
    "comp_error(knn.predict(mnist_test_data), mnist_test_labels)"
   ]
  },
  {
   "cell_type": "markdown",
   "metadata": {},
   "source": [
    "#### 4.1.3. L3 metric"
   ]
  },
  {
   "cell_type": "markdown",
   "metadata": {},
   "source": [
    "L3 metric gives the best result. However, it is very slow to calculate, so I will use Euclidean metric later."
   ]
  },
  {
   "cell_type": "code",
   "execution_count": 94,
   "metadata": {},
   "outputs": [
    {
     "data": {
      "text/plain": [
       "0.0475"
      ]
     },
     "execution_count": 94,
     "metadata": {},
     "output_type": "execute_result"
    }
   ],
   "source": [
    "knn = SklearnKNeighborsClassifier(n_neighbors=5, p=3)\n",
    "knn.fit(mnist_train_data, mnist_train_labels)\n",
    "comp_error(knn.predict(mnist_test_data), mnist_test_labels)"
   ]
  },
  {
   "cell_type": "markdown",
   "metadata": {},
   "source": [
    "### 4.2. Features"
   ]
  },
  {
   "cell_type": "markdown",
   "metadata": {},
   "source": [
    "#### 4.2.1. Fourier transform"
   ]
  },
  {
   "cell_type": "markdown",
   "metadata": {},
   "source": [
    "The knn classifier with L2 metric is known to give a good result with using of such features as deskewing, noise removal, bluring. I am interested in how the Fourier transform applying can affect the prediction of the method."
   ]
  },
  {
   "cell_type": "code",
   "execution_count": 32,
   "metadata": {},
   "outputs": [],
   "source": [
    "def get_image(data, row_index):\n",
    "    return data.iloc[row_index].values.reshape(imsize, imsize)"
   ]
  },
  {
   "cell_type": "code",
   "execution_count": 33,
   "metadata": {},
   "outputs": [],
   "source": [
    "def set_image(data, row_index, image):\n",
    "    data.iloc[row_index] = image.flatten()"
   ]
  },
  {
   "cell_type": "code",
   "execution_count": 23,
   "metadata": {},
   "outputs": [],
   "source": [
    "import matplotlib.pyplot as plt"
   ]
  },
  {
   "cell_type": "code",
   "execution_count": 34,
   "metadata": {},
   "outputs": [],
   "source": [
    "def plot_image(image, vmin=0):\n",
    "    fig = plt.figure()\n",
    "    ax = fig.add_subplot(1, 1, 1)\n",
    "    im = ax.imshow(image, cmap=\"gray_r\", vmin=vmin)\n",
    "    fig.colorbar(im)"
   ]
  },
  {
   "cell_type": "markdown",
   "metadata": {},
   "source": [
    "We can do the Fourier transform of an image and get two image constituents: the modulus and the angle. When we shift an image by some pixels, the angle changes only (it is shown below)."
   ]
  },
  {
   "cell_type": "code",
   "execution_count": 35,
   "metadata": {},
   "outputs": [
    {
     "data": {
      "image/png": "[encoded data removed]",
      "text/plain": [
       "<Figure size 432x288 with 2 Axes>"
      ]
     },
     "metadata": {
      "needs_background": "light"
     },
     "output_type": "display_data"
    }
   ],
   "source": [
    "test_image = get_image(get_data(mnist_train_full), 1)\n",
    "plot_image(test_image)"
   ]
  },
  {
   "cell_type": "code",
   "execution_count": 36,
   "metadata": {},
   "outputs": [
    {
     "data": {
      "image/png": "[encoded data removed]",
      "text/plain": [
       "<Figure size 432x288 with 2 Axes>"
      ]
     },
     "metadata": {
      "needs_background": "light"
     },
     "output_type": "display_data"
    },
    {
     "data": {
      "image/png": "[encoded data removed]",
      "text/plain": [
       "<Figure size 432x288 with 2 Axes>"
      ]
     },
     "metadata": {
      "needs_background": "light"
     },
     "output_type": "display_data"
    }
   ],
   "source": [
    "test_image_transf_abs = np.abs(np.fft.fft2(test_image))\n",
    "plot_image(test_image_transf_abs)\n",
    "test_image_transf_angle = np.angle(np.fft.fft2(test_image))\n",
    "plot_image(test_image_transf_angle, vmin=None)"
   ]
  },
  {
   "cell_type": "code",
   "execution_count": 37,
   "metadata": {},
   "outputs": [
    {
     "data": {
      "image/png": "[encoded data removed]",
      "text/plain": [
       "<Figure size 432x288 with 2 Axes>"
      ]
     },
     "metadata": {
      "needs_background": "light"
     },
     "output_type": "display_data"
    }
   ],
   "source": [
    "shifted_image = np.concatenate([test_image[:, 3:], test_image[:, :3]], axis=-1)\n",
    "plot_image(shifted_image)"
   ]
  },
  {
   "cell_type": "code",
   "execution_count": 38,
   "metadata": {},
   "outputs": [
    {
     "data": {
      "image/png": "[encoded data removed]",
      "text/plain": [
       "<Figure size 432x288 with 2 Axes>"
      ]
     },
     "metadata": {
      "needs_background": "light"
     },
     "output_type": "display_data"
    },
    {
     "data": {
      "image/png": "[encoded data removed]",
      "text/plain": [
       "<Figure size 432x288 with 2 Axes>"
      ]
     },
     "metadata": {
      "needs_background": "light"
     },
     "output_type": "display_data"
    }
   ],
   "source": [
    "shifted_image_transf_abs = np.abs(np.fft.fft2(shifted_image))\n",
    "plot_image(shifted_image_transf_abs)\n",
    "shifted_image_transf_angle = np.angle(np.fft.fft2(shifted_image))\n",
    "plot_image(shifted_image_transf_angle, vmin=None)"
   ]
  },
  {
   "cell_type": "code",
   "execution_count": 39,
   "metadata": {},
   "outputs": [
    {
     "data": {
      "image/png": "[encoded data removed]",
      "text/plain": [
       "<Figure size 432x288 with 2 Axes>"
      ]
     },
     "metadata": {
      "needs_background": "light"
     },
     "output_type": "display_data"
    },
    {
     "data": {
      "image/png": "[encoded data removed]",
      "text/plain": [
       "<Figure size 432x288 with 2 Axes>"
      ]
     },
     "metadata": {
      "needs_background": "light"
     },
     "output_type": "display_data"
    }
   ],
   "source": [
    "plot_image((shifted_image_transf_abs - test_image_transf_abs).astype(int))\n",
    "plot_image(shifted_image_transf_angle - test_image_transf_angle, vmin=None)"
   ]
  },
  {
   "cell_type": "markdown",
   "metadata": {},
   "source": [
    "The idea was to train the classifier using only the modulus of the Fourier image to achieve shift invariance. However, it gave the worse result (8.6\\%). It was not surprising because the removal of the angle leads to the loss of some information. The Fourier transform in the raw did not give the error reduction too. I think it was due to the L2 metric that not suitable for the Fourier image."
   ]
  },
  {
   "cell_type": "code",
   "execution_count": 40,
   "metadata": {},
   "outputs": [],
   "source": [
    "import copy"
   ]
  },
  {
   "cell_type": "code",
   "execution_count": 41,
   "metadata": {},
   "outputs": [],
   "source": [
    "def do_fourier_transform(data):\n",
    "    new_data = copy.deepcopy(data)\n",
    "    for row_ind in range(len(data)):\n",
    "        image = get_image(data, row_ind)\n",
    "        set_image(new_data, row_ind, np.abs(np.fft.fft2(image)))\n",
    "    return new_data"
   ]
  },
  {
   "cell_type": "code",
   "execution_count": 42,
   "metadata": {},
   "outputs": [],
   "source": [
    "mnist_train_data_transf = do_fourier_transform(mnist_train_data)\n",
    "mnist_test_data_transf = do_fourier_transform(mnist_test_data)"
   ]
  },
  {
   "cell_type": "code",
   "execution_count": 43,
   "metadata": {},
   "outputs": [
    {
     "data": {
      "text/plain": [
       "0.0865"
      ]
     },
     "execution_count": 43,
     "metadata": {},
     "output_type": "execute_result"
    }
   ],
   "source": [
    "knn = KNeighborsClassifier(n_neighbors=5, metric=euclidean_distances)\n",
    "knn.fit(mnist_train_data_transf, mnist_train_labels)\n",
    "comp_error(knn.predict(mnist_test_data_transf), mnist_test_labels)"
   ]
  },
  {
   "cell_type": "markdown",
   "metadata": {},
   "source": [
    "#### 4.2.2. Filtration"
   ]
  },
  {
   "cell_type": "markdown",
   "metadata": {},
   "source": [
    "Fourier transform can be applyed for filtration of high frequencies. It looks as both noise removal and bluring."
   ]
  },
  {
   "cell_type": "code",
   "execution_count": 44,
   "metadata": {},
   "outputs": [],
   "source": [
    "def filter_image(image, nfreq = 8):\n",
    "    filtered_image = np.fft.fft2(image)\n",
    "    filtered_image[:, nfreq:imsize-nfreq] = 0.0+0.0j\n",
    "    filtered_image[nfreq:imsize-nfreq, :nfreq] = 0.0+0.0j\n",
    "    filtered_image[nfreq:imsize-nfreq, imsize-nfreq:] = 0.0+0.0j\n",
    "    filtered_image = np.abs(np.fft.ifft2(filtered_image))\n",
    "    return filtered_image / np.max(filtered_image)"
   ]
  },
  {
   "cell_type": "code",
   "execution_count": 45,
   "metadata": {},
   "outputs": [
    {
     "data": {
      "image/png": "[encoded data removed]",
      "text/plain": [
       "<Figure size 432x288 with 2 Axes>"
      ]
     },
     "metadata": {
      "needs_background": "light"
     },
     "output_type": "display_data"
    }
   ],
   "source": [
    "test_image_filtered = filter_image(test_image)\n",
    "plot_image(test_image_filtered)"
   ]
  },
  {
   "cell_type": "markdown",
   "metadata": {},
   "source": [
    "This showed a good result: the forecast error was decreased by 0.8\\%."
   ]
  },
  {
   "cell_type": "code",
   "execution_count": 46,
   "metadata": {},
   "outputs": [],
   "source": [
    "def filter_dataset(data):\n",
    "    new_data = pd.DataFrame({\"%dx%d\" % (i+1, j+1):np.zeros(shape=(len(data)), dtype=np.float64)\\\n",
    "                            for i in range(imsize) for j in range(imsize)})\n",
    "    for row_ind in range(len(data)):\n",
    "        image = get_image(data, row_ind)\n",
    "        set_image(new_data, row_ind, filter_image(image))\n",
    "    return new_data"
   ]
  },
  {
   "cell_type": "code",
   "execution_count": 47,
   "metadata": {},
   "outputs": [],
   "source": [
    "mnist_train_data_filtered = filter_dataset(mnist_train_data)\n",
    "mnist_test_data_filtered = filter_dataset(mnist_test_data)"
   ]
  },
  {
   "cell_type": "code",
   "execution_count": 48,
   "metadata": {},
   "outputs": [
    {
     "data": {
      "text/plain": [
       "0.0415"
      ]
     },
     "execution_count": 48,
     "metadata": {},
     "output_type": "execute_result"
    }
   ],
   "source": [
    "knn = KNeighborsClassifier(n_neighbors=5, metric=euclidean_distances)\n",
    "knn.fit(mnist_train_data_filtered, mnist_train_labels)\n",
    "comp_error(knn.predict(mnist_test_data_filtered), mnist_test_labels)"
   ]
  },
  {
   "cell_type": "markdown",
   "metadata": {},
   "source": [
    "#### 4.2.3. Rotation"
   ]
  },
  {
   "cell_type": "markdown",
   "metadata": {},
   "source": [
    "Some numbers in the dataset can be noticed to be slanted. The idea was to rotate them counterclock-wise. Because it is not known which of the images are slanted or straight, the dataset was expanded by all of the initial images that have been rotated. To smooth out artifacts received when rotating, the low-frequency filter was applyed."
   ]
  },
  {
   "cell_type": "code",
   "execution_count": 49,
   "metadata": {},
   "outputs": [],
   "source": [
    "def rotate_image(image, angle=np.pi/12.0):\n",
    "    rotated_image = np.zeros(shape=(imsize, imsize), dtype=np.float64)\n",
    "    for i in range(imsize):\n",
    "        for j in range(imsize):\n",
    "            i1 = int(np.cos(angle)*(i-imsize//2) - np.sin(angle)*(j-imsize//2)) + imsize//2\n",
    "            j1 = int(np.sin(angle)*(i-imsize//2) + np.cos(angle)*(j-imsize//2)) + imsize//2\n",
    "            if i1 > 0 and i1 < imsize and j1 > 0 and j1 < imsize:\n",
    "                rotated_image[i1, j1] = image[i, j]\n",
    "    return rotated_image      "
   ]
  },
  {
   "cell_type": "code",
   "execution_count": 98,
   "metadata": {},
   "outputs": [
    {
     "data": {
      "image/png": "[encoded data removed]",
      "text/plain": [
       "<Figure size 432x288 with 2 Axes>"
      ]
     },
     "metadata": {
      "needs_background": "light"
     },
     "output_type": "display_data"
    }
   ],
   "source": [
    "plot_image(test_image)"
   ]
  },
  {
   "cell_type": "code",
   "execution_count": 50,
   "metadata": {},
   "outputs": [
    {
     "data": {
      "image/png": "[encoded data removed]",
      "text/plain": [
       "<Figure size 432x288 with 2 Axes>"
      ]
     },
     "metadata": {
      "needs_background": "light"
     },
     "output_type": "display_data"
    }
   ],
   "source": [
    "rotated_image = rotate_image(test_image)\n",
    "plot_image(rotated_image)"
   ]
  },
  {
   "cell_type": "code",
   "execution_count": 51,
   "metadata": {},
   "outputs": [
    {
     "data": {
      "image/png": "[encoded data removed]",
      "text/plain": [
       "<Figure size 432x288 with 2 Axes>"
      ]
     },
     "metadata": {
      "needs_background": "light"
     },
     "output_type": "display_data"
    }
   ],
   "source": [
    "plot_image(filter_image(rotated_image))"
   ]
  },
  {
   "cell_type": "code",
   "execution_count": 52,
   "metadata": {},
   "outputs": [],
   "source": [
    "def expand_dataset_rotated(data, labels):\n",
    "    new_data = copy.deepcopy(data).append(copy.deepcopy(data))\n",
    "    new_labels = copy.deepcopy(labels).append(copy.deepcopy(labels))\n",
    "    for row_ind in range(len(data)):\n",
    "        image = get_image(data, row_ind)\n",
    "        set_image(new_data, row_ind + len(data), rotate_image(image))\n",
    "    return new_data, new_labels"
   ]
  },
  {
   "cell_type": "code",
   "execution_count": 53,
   "metadata": {},
   "outputs": [],
   "source": [
    "mnist_train_data_rotated, mnist_train_labels_rotated = expand_dataset_rotated(mnist_train_data, mnist_train_labels)\n",
    "mnist_test_data_rotated, mnist_test_labels_rotated = expand_dataset_rotated(mnist_test_data, mnist_test_labels)"
   ]
  },
  {
   "cell_type": "code",
   "execution_count": 54,
   "metadata": {},
   "outputs": [
    {
     "data": {
      "text/plain": [
       "0.05075"
      ]
     },
     "execution_count": 54,
     "metadata": {},
     "output_type": "execute_result"
    }
   ],
   "source": [
    "knn = KNeighborsClassifier(n_neighbors=5, metric=euclidean_distances)\n",
    "knn.fit(mnist_train_data_rotated, mnist_train_labels_rotated)\n",
    "comp_error(knn.predict(mnist_test_data_rotated), mnist_test_labels_rotated)"
   ]
  },
  {
   "cell_type": "code",
   "execution_count": 55,
   "metadata": {},
   "outputs": [],
   "source": [
    "mnist_train_data_filtered_rotated = filter_dataset(mnist_train_data_rotated)\n",
    "mnist_test_data_filtered_rotated = filter_dataset(mnist_test_data_rotated)"
   ]
  },
  {
   "cell_type": "code",
   "execution_count": 56,
   "metadata": {},
   "outputs": [
    {
     "data": {
      "text/plain": [
       "0.04"
      ]
     },
     "execution_count": 56,
     "metadata": {},
     "output_type": "execute_result"
    }
   ],
   "source": [
    "knn = KNeighborsClassifier(n_neighbors=5, metric=euclidean_distances)\n",
    "knn.fit(mnist_train_data_filtered_rotated, mnist_train_labels_rotated)\n",
    "comp_error(knn.predict(mnist_test_data_filtered_rotated), mnist_test_labels_rotated)"
   ]
  },
  {
   "cell_type": "markdown",
   "metadata": {},
   "source": [
    "We can see that the forecast error was decreased by 0.015\\%. The best result is 4\\% of error now."
   ]
  },
  {
   "cell_type": "markdown",
   "metadata": {},
   "source": [
    "#### 4.2.4. Deskewing"
   ]
  },
  {
   "cell_type": "markdown",
   "metadata": {},
   "source": [
    "I tried to tranform images to be independent on shift and size by cropping image margins. It seemed a good idea but did not give any excellent result. For the initial dataset this allowed to win a couple of tenths of a percent, but combined with filtration and rotation the result got worse."
   ]
  },
  {
   "cell_type": "code",
   "execution_count": 62,
   "metadata": {},
   "outputs": [],
   "source": [
    "from PIL import Image"
   ]
  },
  {
   "cell_type": "code",
   "execution_count": 63,
   "metadata": {},
   "outputs": [],
   "source": [
    "def deskew_image(image):\n",
    "    arr_not_null = np.where(image != 0)\n",
    "    top = np.min(arr_not_null[0])\n",
    "    low = np.max(arr_not_null[0])\n",
    "    left = np.min(arr_not_null[1])\n",
    "    right = np.max(arr_not_null[1])\n",
    "    return np.array(Image.fromarray(image.astype(np.int32)[top:low, left:right], mode='I').resize((imsize, imsize)),\n",
    "                    dtype=image.dtype)"
   ]
  },
  {
   "cell_type": "code",
   "execution_count": 64,
   "metadata": {},
   "outputs": [
    {
     "data": {
      "image/png": "[encoded data removed]",
      "text/plain": [
       "<Figure size 432x288 with 2 Axes>"
      ]
     },
     "metadata": {
      "needs_background": "light"
     },
     "output_type": "display_data"
    }
   ],
   "source": [
    "plot_image(deskew_image(test_image))"
   ]
  },
  {
   "cell_type": "code",
   "execution_count": 65,
   "metadata": {},
   "outputs": [],
   "source": [
    "def deskew_dataset(data):\n",
    "    new_data = copy.deepcopy(data)\n",
    "    for row_ind in range(len(data)):\n",
    "        image = get_image(data, row_ind)\n",
    "        set_image(new_data, row_ind, deskew_image(image))\n",
    "    return new_data"
   ]
  },
  {
   "cell_type": "code",
   "execution_count": 66,
   "metadata": {},
   "outputs": [],
   "source": [
    "mnist_train_data_deskewied = deskew_dataset(mnist_train_data)\n",
    "mnist_test_data_deskewied = deskew_dataset(mnist_test_data)"
   ]
  },
  {
   "cell_type": "code",
   "execution_count": 67,
   "metadata": {},
   "outputs": [
    {
     "data": {
      "text/plain": [
       "0.0475"
      ]
     },
     "execution_count": 67,
     "metadata": {},
     "output_type": "execute_result"
    }
   ],
   "source": [
    "knn = KNeighborsClassifier(n_neighbors=5, metric=euclidean_distances)\n",
    "knn.fit(mnist_train_data_deskewied, mnist_train_labels)\n",
    "comp_error(knn.predict(mnist_test_data_deskewied), mnist_test_labels)"
   ]
  },
  {
   "cell_type": "code",
   "execution_count": 70,
   "metadata": {},
   "outputs": [],
   "source": [
    "mnist_train_data_deskewied_filtered = filter_dataset(mnist_train_data_deskewied)\n",
    "mnist_test_data_deskewied_filtered = filter_dataset(mnist_test_data_deskewied)"
   ]
  },
  {
   "cell_type": "code",
   "execution_count": 71,
   "metadata": {},
   "outputs": [
    {
     "data": {
      "text/plain": [
       "0.0465"
      ]
     },
     "execution_count": 71,
     "metadata": {},
     "output_type": "execute_result"
    }
   ],
   "source": [
    "knn = KNeighborsClassifier(n_neighbors=5, metric=euclidean_distances)\n",
    "knn.fit(mnist_train_data_deskewied_filtered, mnist_train_labels)\n",
    "comp_error(knn.predict(mnist_test_data_deskewied_filtered), mnist_test_labels)"
   ]
  },
  {
   "cell_type": "code",
   "execution_count": 72,
   "metadata": {},
   "outputs": [],
   "source": [
    "mnist_train_data_deskewied_filtered_rotated = filter_dataset(deskew_dataset(mnist_train_data_rotated))\n",
    "mnist_test_data_deskewied_filtered_rotated = filter_dataset(deskew_dataset(mnist_test_data_rotated))"
   ]
  },
  {
   "cell_type": "code",
   "execution_count": 73,
   "metadata": {},
   "outputs": [
    {
     "data": {
      "text/plain": [
       "0.0425"
      ]
     },
     "execution_count": 73,
     "metadata": {},
     "output_type": "execute_result"
    }
   ],
   "source": [
    "knn = KNeighborsClassifier(n_neighbors=5, metric=euclidean_distances)\n",
    "knn.fit(mnist_train_data_deskewied_filtered_rotated, mnist_train_labels_rotated)\n",
    "comp_error(knn.predict(mnist_test_data_deskewied_filtered_rotated), mnist_test_labels_rotated)"
   ]
  },
  {
   "cell_type": "markdown",
   "metadata": {},
   "source": [
    "#### 4.2.5. Shifts"
   ]
  },
  {
   "cell_type": "markdown",
   "metadata": {},
   "source": [
    "Also I tried to expand the dataset by images shifted by 1 pixel. It did not give any positive result."
   ]
  },
  {
   "cell_type": "code",
   "execution_count": 74,
   "metadata": {},
   "outputs": [],
   "source": [
    "def shift_image_left(image, step=1):\n",
    "    return np.concatenate([image[:, step:], image[:, :step]], axis=-1)"
   ]
  },
  {
   "cell_type": "code",
   "execution_count": 75,
   "metadata": {},
   "outputs": [],
   "source": [
    "def shift_image_right(image, step=1):\n",
    "    return np.concatenate([image[:, imsize-step:], image[:, :imsize-step]], axis=-1)"
   ]
  },
  {
   "cell_type": "code",
   "execution_count": 76,
   "metadata": {},
   "outputs": [],
   "source": [
    "def expand_dataset_shifted(data, labels):\n",
    "    new_data = copy.deepcopy(data)\n",
    "    new_labels = copy.deepcopy(labels)\n",
    "    for i in range(2):\n",
    "        new_data = new_data.append(copy.deepcopy(data))\n",
    "        new_labels = new_labels.append(copy.deepcopy(labels))\n",
    "    for row_ind in range(len(data)):\n",
    "        image = get_image(data, row_ind)\n",
    "        set_image(new_data, row_ind + 1*len(data), shift_image_left(image))\n",
    "        set_image(new_data, row_ind + 2*len(data), shift_image_right(image))\n",
    "    return new_data, new_labels"
   ]
  },
  {
   "cell_type": "code",
   "execution_count": 77,
   "metadata": {},
   "outputs": [],
   "source": [
    "mnist_train_data_shifted, mnist_train_labels_shifted = expand_dataset_shifted(mnist_train_data, mnist_train_labels)\n",
    "mnist_test_data_shifted, mnist_test_labels_shifted = expand_dataset_shifted(mnist_test_data, mnist_test_labels)"
   ]
  },
  {
   "cell_type": "code",
   "execution_count": 78,
   "metadata": {},
   "outputs": [
    {
     "data": {
      "text/plain": [
       "0.049833333333333334"
      ]
     },
     "execution_count": 78,
     "metadata": {},
     "output_type": "execute_result"
    }
   ],
   "source": [
    "knn = KNeighborsClassifier(n_neighbors=5, metric=euclidean_distances)\n",
    "knn.fit(mnist_train_data_shifted, mnist_train_labels_shifted)\n",
    "comp_error(knn.predict(mnist_test_data_shifted), mnist_test_labels_shifted)"
   ]
  },
  {
   "cell_type": "markdown",
   "metadata": {},
   "source": [
    "## 5. Find hyper-parameters"
   ]
  },
  {
   "cell_type": "markdown",
   "metadata": {},
   "source": [
    "The experiments above were performed with the number of neighbors k=5 because it was the best hyperparameter for the dataset without any preprocessings and features. The code below demonstrates that it is the best parameter for the dataset with the constructed features. I did not consider the case of the number of neighbors equal to 1 because it is similar to degenerate case that can lead to overfitting. Also, the error steadily increases with the growth of k, that means the hyperpatameter to be small enough."
   ]
  },
  {
   "cell_type": "code",
   "execution_count": 79,
   "metadata": {},
   "outputs": [],
   "source": [
    "k_arr = [3, 5, 7, 10, 50, 100, 150]"
   ]
  },
  {
   "cell_type": "code",
   "execution_count": 80,
   "metadata": {},
   "outputs": [],
   "source": [
    "error_arr = []\n",
    "for k in k_arr:\n",
    "    knn = KNeighborsClassifier(n_neighbors=k, metric=euclidean_distances)\n",
    "    knn.fit(mnist_train_data, mnist_train_labels)\n",
    "    error_arr.append(comp_error(knn.predict(mnist_test_data), mnist_test_labels))"
   ]
  },
  {
   "cell_type": "code",
   "execution_count": 81,
   "metadata": {},
   "outputs": [
    {
     "data": {
      "image/png": "[encoded data removed]",
      "text/plain": [
       "<Figure size 432x288 with 1 Axes>"
      ]
     },
     "metadata": {
      "needs_background": "light"
     },
     "output_type": "display_data"
    }
   ],
   "source": [
    "_ = plt.plot(k_arr, error_arr, '-p')"
   ]
  },
  {
   "cell_type": "code",
   "execution_count": 82,
   "metadata": {},
   "outputs": [],
   "source": [
    "error_arr = []\n",
    "for k in k_arr:\n",
    "    knn = KNeighborsClassifier(n_neighbors=k, metric=euclidean_distances)\n",
    "    knn.fit(mnist_train_data_filtered_rotated, mnist_train_labels_rotated)\n",
    "    error_arr.append(comp_error(knn.predict(mnist_test_data_filtered_rotated), mnist_test_labels_rotated))"
   ]
  },
  {
   "cell_type": "code",
   "execution_count": 83,
   "metadata": {},
   "outputs": [
    {
     "data": {
      "image/png": "[encoded data removed]",
      "text/plain": [
       "<Figure size 432x288 with 1 Axes>"
      ]
     },
     "metadata": {
      "needs_background": "light"
     },
     "output_type": "display_data"
    }
   ],
   "source": [
    "_ = plt.plot(k_arr, error_arr, '-p')"
   ]
  },
  {
   "cell_type": "markdown",
   "metadata": {},
   "source": [
    "Let's compute the prediction, finally."
   ]
  },
  {
   "cell_type": "code",
   "execution_count": 88,
   "metadata": {},
   "outputs": [],
   "source": [
    "knn = KNeighborsClassifier(n_neighbors=5, metric=euclidean_distances)\n",
    "knn.fit(mnist_train_data_filtered_rotated, mnist_train_labels_rotated)\n",
    "prediction = knn.predict(mnist_test_data_filtered_rotated)[:len(mnist_test_labels)]"
   ]
  },
  {
   "cell_type": "markdown",
   "metadata": {},
   "source": [
    "## 6. Results\n",
    "### The best model parameters:\n",
    "* k: 5\n",
    "* Distance function: Euclidean\n",
    "* Features: сutting high frequencies, rotation\n",
    "\n",
    "### The best model test accuracy:\n",
    "96.0\\%\n",
    "\n",
    "###  Why such model parameters are the best?\n",
    "This is stated above."
   ]
  },
  {
   "cell_type": "markdown",
   "metadata": {},
   "source": [
    "By the way, it is interesting to see images for which the classifier made a mistake."
   ]
  },
  {
   "cell_type": "code",
   "execution_count": 93,
   "metadata": {},
   "outputs": [
    {
     "name": "stdout",
     "output_type": "stream",
     "text": [
      "Prediction: 0, label: 6\n",
      "Prediction: 9, label: 4\n",
      "Prediction: 1, label: 7\n",
      "Prediction: 7, label: 4\n",
      "Prediction: 2, label: 7\n"
     ]
    },
    {
     "data": {
      "image/png": "[encoded data removed]",
      "text/plain": [
       "<Figure size 432x288 with 2 Axes>"
      ]
     },
     "metadata": {
      "needs_background": "light"
     },
     "output_type": "display_data"
    },
    {
     "data": {
      "image/png": "[encoded data removed]",
      "text/plain": [
       "<Figure size 432x288 with 2 Axes>"
      ]
     },
     "metadata": {
      "needs_background": "light"
     },
     "output_type": "display_data"
    },
    {
     "data": {
      "image/png": "[encoded data removed]",
      "text/plain": [
       "<Figure size 432x288 with 2 Axes>"
      ]
     },
     "metadata": {
      "needs_background": "light"
     },
     "output_type": "display_data"
    },
    {
     "data": {
      "image/png": "[encoded data removed]",
      "text/plain": [
       "<Figure size 432x288 with 2 Axes>"
      ]
     },
     "metadata": {
      "needs_background": "light"
     },
     "output_type": "display_data"
    },
    {
     "data": {
      "image/png": "[encoded data removed]",
      "text/plain": [
       "<Figure size 432x288 with 2 Axes>"
      ]
     },
     "metadata": {
      "needs_background": "light"
     },
     "output_type": "display_data"
    }
   ],
   "source": [
    "for i in range(5):\n",
    "    index = np.where(prediction != mnist_test_labels)[0][i]\n",
    "    plot_image(get_image(mnist_test_data, index))\n",
    "    print(\"Prediction: %d, label: %d\" % (prediction[index], mnist_test_labels.iloc[index]))"
   ]
  },
  {
   "cell_type": "markdown",
   "metadata": {},
   "source": [
    "It is easy to see that some digits do look like the digits in the prediction. To get a much better result, we have to use better methods or build more tricky features, such as perhaps the presence of an open circuit at the top of the digit (see fig. 2 above) or the number of straight lines in the digit. Obviously, the Lp metric (in particular, L2) is not very suitable here."
   ]
  },
  {
   "cell_type": "code",
   "execution_count": null,
   "metadata": {},
   "outputs": [],
   "source": []
  }
 ],
 "metadata": {
  "kernelspec": {
   "display_name": "Python 3",
   "language": "python",
   "name": "python3"
  },
  "language_info": {
   "codemirror_mode": {
    "name": "ipython",
    "version": 3
   },
   "file_extension": ".py",
   "mimetype": "text/x-python",
   "name": "python",
   "nbconvert_exporter": "python",
   "pygments_lexer": "ipython3",
   "version": "3.7.2"
  }
 },
 "nbformat": 4,
 "nbformat_minor": 2
}
